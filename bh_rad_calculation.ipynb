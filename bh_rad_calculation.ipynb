{
  "nbformat": 4,
  "nbformat_minor": 0,
  "metadata": {
    "colab": {
      "provenance": [],
      "authorship_tag": "ABX9TyPw/mgqrPNZoZVIjKtTvULm",
      "include_colab_link": true
    },
    "kernelspec": {
      "name": "python3",
      "display_name": "Python 3"
    },
    "language_info": {
      "name": "python"
    }
  },
  "cells": [
    {
      "cell_type": "markdown",
      "metadata": {
        "id": "view-in-github",
        "colab_type": "text"
      },
      "source": [
        "<a href=\"https://colab.research.google.com/github/dubalker11/gravitationalwave/blob/main/bh_rad_calculation.ipynb\" target=\"_parent\"><img src=\"https://colab.research.google.com/assets/colab-badge.svg\" alt=\"Open In Colab\"/></a>"
      ]
    },
    {
      "cell_type": "code",
      "execution_count": null,
      "metadata": {
        "id": "OzVhjwmSIAhv"
      },
      "outputs": [],
      "source": [
        "import numpy as np\n",
        "import astropy.units as u\n",
        "import astropy.constants as ac"
      ]
    },
    {
      "cell_type": "markdown",
      "source": [
        "$R = \\frac{2GM}{c^2}$"
      ],
      "metadata": {
        "id": "H_J6r-QIJjBW"
      }
    },
    {
      "cell_type": "code",
      "source": [
        "bh_mass = 1 * u.solMass #solar-mass black hole\n",
        "bh_rad = 2 * ac.G * bh_mass / ac.c**2\n",
        "print(bh_rad.to(u.km))"
      ],
      "metadata": {
        "colab": {
          "base_uri": "https://localhost:8080/"
        },
        "id": "arSuPaq7JRRR",
        "outputId": "72e5f241-dd81-4e53-aade-b1901422536f"
      },
      "execution_count": null,
      "outputs": [
        {
          "output_type": "stream",
          "name": "stdout",
          "text": [
            "2.95325007610025 km\n"
          ]
        }
      ]
    },
    {
      "cell_type": "markdown",
      "source": [
        "The radius of a solar-mass black hole is 2.953 km\n"
      ],
      "metadata": {
        "id": "kfIMrZhuJcts"
      }
    },
    {
      "cell_type": "code",
      "source": [
        "delta_t = 0.01 * u.second\n",
        "M = delta_t * ac.c**3 / (16 * np.pi * ac.G)\n",
        "print(M.to(u.solMass)) #total mass of the two merging black holes"
      ],
      "metadata": {
        "colab": {
          "base_uri": "https://localhost:8080/"
        },
        "id": "MeKk3Gl-I0c9",
        "outputId": "3c99eadd-993f-488f-d675-80a6f235462f"
      },
      "execution_count": null,
      "outputs": [
        {
          "output_type": "stream",
          "name": "stdout",
          "text": [
            "40.390629275268466 solMass\n"
          ]
        }
      ]
    },
    {
      "cell_type": "code",
      "source": [
        "h = 1e-21\n",
        "delta_Earth = 1 * u.earthRad * h\n",
        "print(delta_Earth.to(u.m)) #deformation of Earth"
      ],
      "metadata": {
        "colab": {
          "base_uri": "https://localhost:8080/"
        },
        "id": "LhsoK7F_JNOp",
        "outputId": "18a4cd8d-cd48-4629-d4df-4799cb1f24d2"
      },
      "execution_count": null,
      "outputs": [
        {
          "output_type": "stream",
          "name": "stdout",
          "text": [
            "6.378099999999999e-15 m\n"
          ]
        }
      ]
    },
    {
      "cell_type": "code",
      "source": [
        "bh_r = 2 * ac.G * 30 * u.solMass / (ac.c**2)\n",
        "D = bh_r / h\n",
        "print(D.to(1e6 * u.parsec))"
      ],
      "metadata": {
        "colab": {
          "base_uri": "https://localhost:8080/"
        },
        "id": "d2foK_XFOqZn",
        "outputId": "4c4acb8e-d365-44a3-e827-41976d9eec73"
      },
      "execution_count": null,
      "outputs": [
        {
          "output_type": "stream",
          "name": "stdout",
          "text": [
            "2871.249504952705 1e+06 pc\n"
          ]
        }
      ]
    },
    {
      "cell_type": "markdown",
      "source": [
        "Distance of the black hole merger is 2871 1e+06 pc"
      ],
      "metadata": {
        "id": "W16ArsLXO_3D"
      }
    }
  ]
}